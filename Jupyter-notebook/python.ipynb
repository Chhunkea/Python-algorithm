{
 "cells": [
  {
   "cell_type": "code",
   "execution_count": 5,
   "metadata": {},
   "outputs": [
    {
     "name": "stdout",
     "output_type": "stream",
     "text": [
      "Bigger than 50? Yes\n",
      "Bigger than 75? No\n",
      "Bigger than 63? Yes\n",
      "Bigger than 69? No\n",
      "Bigger than 66? Yes\n",
      "Bigger than 68? Yes\n",
      "Your x is 69\n"
     ]
    },
    {
     "data": {
      "text/plain": [
       "69"
      ]
     },
     "execution_count": 5,
     "metadata": {},
     "output_type": "execute_result"
    }
   ],
   "source": [
    "# Twenty QA game.\n",
    "# Using iteration\n",
    "\n",
    "def solve(x, s, t):\n",
    "    low, high = s, t\n",
    "    while low < high:\n",
    "        mid = (low + high) // 2\n",
    "        print(f'Bigger than {mid}?', end= ' ')\n",
    "        if x > mid:\n",
    "            print('Yes')\n",
    "            low = mid + 1\n",
    "        else:\n",
    "            print('No')\n",
    "            high = mid\n",
    "    print(f'Your x is {low}')\n",
    "    return low\n",
    "        \n",
    "import random\n",
    "s, t = map(int, input().split())\n",
    "SEED = int(input())\n",
    "random.seed(SEED)\n",
    "x = random.randint(s, t)\n",
    "solve(x, s, t)\n",
    "\n",
    "# Task 1\n",
    "# Input s, t = 1, 100\n",
    "# SEED = 2022\n",
    "# output = 69\n",
    "\n",
    "# Task 2\n",
    "# Input s, t = 1, 1000000\n",
    "# SEED = 2022\n",
    "# output = 557451"
   ]
  },
  {
   "cell_type": "code",
   "execution_count": 6,
   "metadata": {},
   "outputs": [
    {
     "name": "stdout",
     "output_type": "stream",
     "text": [
      "Bigger than 50? Yes\n",
      "Bigger than 75? No\n",
      "Bigger than 63? Yes\n",
      "Bigger than 69? No\n",
      "Bigger than 66? Yes\n",
      "Bigger than 68? Yes\n",
      "Your X is 69.\n"
     ]
    },
    {
     "data": {
      "text/plain": [
       "69"
      ]
     },
     "execution_count": 6,
     "metadata": {},
     "output_type": "execute_result"
    }
   ],
   "source": [
    "# Twenty QA game.\n",
    "# Using recursion\n",
    "\n",
    "def solve(x, low, high):\n",
    "    if low >= high :\n",
    "        print(f'Your X is {low}.')\n",
    "        return low\n",
    "    else:\n",
    "        mid = (low + high) // 2\n",
    "        print(f'Bigger than {mid}?', end= ' ')\n",
    "        if x > mid:\n",
    "            print('Yes')\n",
    "            return solve(x, mid + 1, high)\n",
    "        else:\n",
    "            print('No')\n",
    "            return solve(x, low, mid)\n",
    "        \n",
    "import random\n",
    "s, t = map(int, input().split())\n",
    "SEED = int(input())\n",
    "random.seed(SEED)\n",
    "x = random.randint(s, t)\n",
    "solve(x, s, t)"
   ]
  }
 ],
 "metadata": {
  "kernelspec": {
   "display_name": "Python 3",
   "language": "python",
   "name": "python3"
  },
  "language_info": {
   "codemirror_mode": {
    "name": "ipython",
    "version": 3
   },
   "file_extension": ".py",
   "mimetype": "text/x-python",
   "name": "python",
   "nbconvert_exporter": "python",
   "pygments_lexer": "ipython3",
   "version": "3.12.3"
  }
 },
 "nbformat": 4,
 "nbformat_minor": 2
}
