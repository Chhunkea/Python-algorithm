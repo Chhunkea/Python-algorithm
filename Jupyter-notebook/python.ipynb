{
 "cells": [
  {
   "cell_type": "code",
   "execution_count": 5,
   "metadata": {},
   "outputs": [
    {
     "name": "stdout",
     "output_type": "stream",
     "text": [
      "Bigger than 50? Yes\n",
      "Bigger than 75? No\n",
      "Bigger than 63? Yes\n",
      "Bigger than 69? No\n",
      "Bigger than 66? Yes\n",
      "Bigger than 68? Yes\n",
      "Your x is 69\n"
     ]
    },
    {
     "data": {
      "text/plain": [
       "69"
      ]
     },
     "execution_count": 5,
     "metadata": {},
     "output_type": "execute_result"
    }
   ],
   "source": [
    "# Twenty QA game.\n",
    "# Using iteration\n",
    "\n",
    "def solve(x, s, t):\n",
    "    low, high = s, t\n",
    "    while low < high:\n",
    "        mid = (low + high) // 2\n",
    "        print(f'Bigger than {mid}?', end= ' ')\n",
    "        if x > mid:\n",
    "            print('Yes')\n",
    "            low = mid + 1\n",
    "        else:\n",
    "            print('No')\n",
    "            high = mid\n",
    "    print(f'Your x is {low}')\n",
    "    return low\n",
    "        \n",
    "import random\n",
    "s, t = map(int, input().split())\n",
    "SEED = int(input())\n",
    "random.seed(SEED)\n",
    "x = random.randint(s, t)\n",
    "solve(x, s, t)\n",
    "\n",
    "# Task 1\n",
    "# Input s, t = 1, 100\n",
    "# SEED = 2022\n",
    "# output = 69\n",
    "\n",
    "# Task 2\n",
    "# Input s, t = 1, 1000000\n",
    "# SEED = 2022\n",
    "# output = 557451"
   ]
  },
  {
   "cell_type": "code",
   "execution_count": 6,
   "metadata": {},
   "outputs": [
    {
     "name": "stdout",
     "output_type": "stream",
     "text": [
      "Bigger than 50? Yes\n",
      "Bigger than 75? No\n",
      "Bigger than 63? Yes\n",
      "Bigger than 69? No\n",
      "Bigger than 66? Yes\n",
      "Bigger than 68? Yes\n",
      "Your X is 69.\n"
     ]
    },
    {
     "data": {
      "text/plain": [
       "69"
      ]
     },
     "execution_count": 6,
     "metadata": {},
     "output_type": "execute_result"
    }
   ],
   "source": [
    "# Twenty QA game.\n",
    "# Using recursion\n",
    "\n",
    "def solve(x, low, high):\n",
    "    if low >= high :\n",
    "        print(f'Your X is {low}.')\n",
    "        return low\n",
    "    else:\n",
    "        mid = (low + high) // 2\n",
    "        print(f'Bigger than {mid}?', end= ' ')\n",
    "        if x > mid:\n",
    "            print('Yes')\n",
    "            return solve(x, mid + 1, high)\n",
    "        else:\n",
    "            print('No')\n",
    "            return solve(x, low, mid)\n",
    "        \n",
    "import random\n",
    "s, t = map(int, input().split())\n",
    "SEED = int(input())\n",
    "random.seed(SEED)\n",
    "x = random.randint(s, t)\n",
    "solve(x, s, t)"
   ]
  },
  {
   "cell_type": "code",
   "execution_count": 12,
   "metadata": {},
   "outputs": [
    {
     "name": "stdout",
     "output_type": "stream",
     "text": [
      "5 96\n"
     ]
    }
   ],
   "source": [
    "# TODO: Binsearch [4] Bitonic sequence\n",
    "# Recursion\n",
    "\n",
    "def binsearch(low, high, n, s):\n",
    "    mid = (low + high) // 2\n",
    "    if mid == 0 or mid > (n - 1):\n",
    "        return -1\n",
    "    else:\n",
    "        if s[mid-1] < s[mid] > s[mid+1]:\n",
    "            return mid\n",
    "        elif s[mid-1] < s[mid] < s[mid+1]:\n",
    "            return binsearch(mid + 1, high, n, s)\n",
    "        else:\n",
    "            return binsearch(low, mid - 1, n, s)\n",
    "        \n",
    "\n",
    "def solve(n, s):\n",
    "    j = binsearch(0, n - 1, n, s)\n",
    "    print(j, s[j])\n",
    "\n",
    "N = int(input())\n",
    "S = list(map(int, input().split()))\n",
    "solve(N, S)\n",
    "\n",
    "# Input1:\n",
    "# N = 7\n",
    "# 18 27 42 82 73 67 25\n",
    "# Output: 3 82\n",
    "\n",
    "# Input2:\n",
    "# N = 9\n",
    "# 27 44 57 69 88 96 53 33 10\n",
    "# Output: 5 96\n",
    "\n",
    "# Input3:\n",
    "# N = 10\n",
    "# 17 95 87 56 49 42 37 31 21 20\n",
    "# Output: 1 95"
   ]
  },
  {
   "cell_type": "code",
   "execution_count": 11,
   "metadata": {},
   "outputs": [
    {
     "name": "stdout",
     "output_type": "stream",
     "text": [
      "5 96\n"
     ]
    }
   ],
   "source": [
    "# Solution 2 (Iteration)\n",
    "\n",
    "def binsearch(n, s):\n",
    "    low, high = 0, n - 1\n",
    "    mid = (low + high) // 2\n",
    "    while mid != 0 and mid != n - 1:\n",
    "        mid = (low + high) // 2\n",
    "        if s[mid-1] < s[mid] > s[mid+1]:\n",
    "            return mid\n",
    "        elif s[mid-1] < s[mid] < s[mid+1]:\n",
    "            low = mid + 1\n",
    "        else:\n",
    "            high = mid - 1\n",
    "    return -1\n",
    "\n",
    "def solve(n, s):\n",
    "    j = binsearch(n, s)\n",
    "    print(j, s[j])\n",
    "\n",
    "N = int(input())\n",
    "S = list(map(int, input().split()))\n",
    "solve(N, S)"
   ]
  },
  {
   "cell_type": "code",
   "execution_count": 4,
   "metadata": {},
   "outputs": [
    {
     "name": "stdout",
     "output_type": "stream",
     "text": [
      "36\n"
     ]
    }
   ],
   "source": [
    "# TODO: Binary odd, even\n",
    "# Recursion\n",
    "\n",
    "def binsearch(low, high, n, s):\n",
    "    if low == high:\n",
    "        return -1 if s[low] % 2 == 1 else low\n",
    "    else:\n",
    "        mid = (low + high) // 2\n",
    "        if s[mid] % 2 == 0: #even\n",
    "            return binsearch(low, mid, n, s)\n",
    "        else: #Odd\n",
    "            return binsearch(mid + 1, high, n, s)\n",
    "        \n",
    "def solve(n, s):\n",
    "    j = binsearch(0, n - 1, n, s)\n",
    "    print(0 if j < 0 else s[j])\n",
    "\n",
    "N = int(input())\n",
    "S = list(map(int, input().split()))\n",
    "solve(N, S)\n",
    "\n",
    "# Input1:\n",
    "# N = 7\n",
    "# 7 3 1 9 8 4 2 6\n",
    "# Output: 8\n",
    "\n",
    "# Input2:\n",
    "# N = 10\n",
    "# 69 19 97 36 52 24 82 10 34 44\n",
    "# Output: 36\n"
   ]
  },
  {
   "cell_type": "code",
   "execution_count": 6,
   "metadata": {},
   "outputs": [
    {
     "name": "stdout",
     "output_type": "stream",
     "text": [
      "8\n"
     ]
    }
   ],
   "source": [
    "# TODO: Binary odd, even\n",
    "# Iteration\n",
    "\n",
    "def binsearch(n, s):\n",
    "    low, high = 0, n - 1\n",
    "    while low <= high:\n",
    "        mid = (low + high) // 2\n",
    "        if s[mid] % 2 == 0: #even\n",
    "            high = mid - 1\n",
    "        else: #Odd\n",
    "            low = mid + 1\n",
    "    return -1 if s[low] % 2 == 1 else low\n",
    "        \n",
    "def solve(n, s):\n",
    "    j = binsearch(n, s)\n",
    "    print(0 if j < 0 else s[j])\n",
    "\n",
    "N = int(input())\n",
    "S = list(map(int, input().split()))\n",
    "solve(N, S)\n",
    "\n",
    "# Input1:\n",
    "# N = 7\n",
    "# 7 3 1 9 8 4 2 6\n",
    "# Output: 8\n",
    "\n",
    "# Input2:\n",
    "# N = 10\n",
    "# 69 19 97 36 52 24 82 10 34 44\n",
    "# Output: 36\n"
   ]
  },
  {
   "cell_type": "code",
   "execution_count": 16,
   "metadata": {},
   "outputs": [
    {
     "name": "stdout",
     "output_type": "stream",
     "text": [
      "0 0 \n"
     ]
    }
   ],
   "source": [
    "# TODO: Binary [6] Nth Prime Number\n",
    "# Iteration with sieve of erathoses\n",
    "\n",
    "def find_prime(n):\n",
    "    sieve = [0, 0] + [1] * (n - 1)\n",
    "    for i in range(2, int(n ** 0.5) + 1):\n",
    "        if sieve[i] == 1:\n",
    "            for j in range(i * i, n + 1, i):\n",
    "                sieve[j] = 0\n",
    "    return [i for i in range(n) if sieve[i] == 1]\n",
    "\n",
    "\n",
    "def binsearch(x, n, s):\n",
    "    low, high = 0, n - 1\n",
    "    while low <= high:\n",
    "        mid = (low + high) // 2\n",
    "        if x == s[mid]:\n",
    "            return mid\n",
    "        elif x < s[mid]:\n",
    "            high = mid - 1\n",
    "        else:\n",
    "            low = mid + 1\n",
    "    return -1\n",
    "\n",
    "def solve(n, s, maxn):\n",
    "    primes = find_prime(maxn)\n",
    "    for i in range(n):\n",
    "        j = binsearch(s[i], len(primes), primes)\n",
    "        print(j + 1, end = ' ')\n",
    "    print()\n",
    "\n",
    "N = int(input())\n",
    "S = list(map(int, input().split()))\n",
    "solve(N, S, 100000)\n",
    "\n",
    "# Input1:\n",
    "# N = 10\n",
    "# S = 1 2 3 4 5 6 7 8 11 13\n",
    "# Output: 0 1 2 0 3 0 4 0 5 6\n",
    "\n",
    "# Input2:\n",
    "# N = 8\n",
    "# S = 127 75 739 173 411 257 543 863\n",
    "# Output: 31 0 131 40 0 55 0 150"
   ]
  },
  {
   "cell_type": "code",
   "execution_count": 18,
   "metadata": {},
   "outputs": [
    {
     "name": "stdout",
     "output_type": "stream",
     "text": [
      "31 0 131 40 0 55 0 150 \n"
     ]
    }
   ],
   "source": [
    "# TODO: Binary [6] Nth Prime Number\n",
    "# Recursion \n",
    "\n",
    "def binsearch(low, high, x, s):\n",
    "    if low > high:\n",
    "        return -1\n",
    "    else:\n",
    "        mid = (low + high) // 2\n",
    "        if x == s[mid]:\n",
    "            return mid\n",
    "        elif x < s[mid]:\n",
    "            return binsearch(low, mid - 1, x, s)\n",
    "        else:\n",
    "            return binsearch(mid + 1, high, x, s)\n",
    "\n",
    "def solve(n, s, maxn):\n",
    "    primes = find_prime(maxn)\n",
    "    for i in range(n):\n",
    "        j = binsearch(0, len(primes) - 1, s[i], primes)\n",
    "        print(j + 1, end = ' ')\n",
    "    print()\n",
    "\n",
    "N = int(input())\n",
    "S = list(map(int, input().split()))\n",
    "solve(N, S, 100000)\n",
    "\n",
    "# Input1:\n",
    "# N = 10\n",
    "# S = 1 2 3 4 5 6 7 8 11 13\n",
    "# Output: 0 1 2 0 3 0 4 0 5 6\n",
    "\n",
    "# Input2:\n",
    "# N = 8\n",
    "# S = 127 75 739 173 411 257 543 863\n",
    "# Output: 31 0 131 40 0 55 0 150"
   ]
  },
  {
   "cell_type": "code",
   "execution_count": 22,
   "metadata": {},
   "outputs": [
    {
     "name": "stdout",
     "output_type": "stream",
     "text": [
      "36\n"
     ]
    }
   ],
   "source": [
    "# TODO: Binary Search: [7] Cutting Trees\n",
    "# Recursion\n",
    "\n",
    "def cut(n, s, h):\n",
    "    length = 0\n",
    "    for i in range(n):\n",
    "        length += (s[i] - h) if s[i] > h else 0\n",
    "    return length\n",
    "\n",
    "def binsearch(low, high, n, m, s):\n",
    "    if low > high:\n",
    "        return low - 1\n",
    "    else:\n",
    "        mid = (low + high) // 2\n",
    "        if cut(n, s, mid) < m:\n",
    "            return binsearch(low, mid - 1, n, m, s)\n",
    "        else:\n",
    "            return binsearch(mid + 1, high, n, m, s )\n",
    "        \n",
    "def solve(n, m, s):\n",
    "    j = binsearch(0, max(s), n, m, s)\n",
    "    print(j)\n",
    "\n",
    "N, M = map(int, input().split())\n",
    "S = list(map(int, input().split()))\n",
    "solve(N, M, S)\n",
    "\n",
    "# Input1:\n",
    "# N, M = 4 7\n",
    "# S = 20 15 10 17\n",
    "# Output: 15\n",
    "\n",
    "# Input2:\n",
    "# N, M = 5 20\n",
    "# S = 4 42 40 26 46\n",
    "# Output: 36\n"
   ]
  },
  {
   "cell_type": "code",
   "execution_count": 28,
   "metadata": {},
   "outputs": [
    {
     "name": "stdout",
     "output_type": "stream",
     "text": [
      "36\n"
     ]
    }
   ],
   "source": [
    "# TODO: Binary Search: [7] Cutting Trees\n",
    "# Iteration\n",
    "\n",
    "def cut(n, s, h):\n",
    "    length = 0\n",
    "    for i in range(n):\n",
    "        length += (s[i] - h) if s[i] > h else 0\n",
    "    return length\n",
    "\n",
    "def binsearch(n, m, s):\n",
    "   low, high = 0, max(s)\n",
    "   while low < high:\n",
    "       mid = (low + high) // 2\n",
    "       if cut(n, s, mid) < m:\n",
    "           high = mid\n",
    "       else:\n",
    "           low = mid + 1\n",
    "   return low - 1\n",
    "\n",
    "def solve(n, m, s):\n",
    "    j = binsearch(n, m, s)\n",
    "    print(j)\n",
    "\n",
    "N, M = map(int, input().split())\n",
    "S = list(map(int, input().split()))\n",
    "solve(N, M, S)\n",
    "\n",
    "# Input1:\n",
    "# N, M = 4 7\n",
    "# S = 20 15 10 17\n",
    "# Output: 15\n",
    "\n",
    "# Input2:\n",
    "# N, M = 5 20\n",
    "# S = 4 42 40 26 46\n",
    "# Output: 36\n"
   ]
  }
 ],
 "metadata": {
  "kernelspec": {
   "display_name": "Python 3",
   "language": "python",
   "name": "python3"
  },
  "language_info": {
   "codemirror_mode": {
    "name": "ipython",
    "version": 3
   },
   "file_extension": ".py",
   "mimetype": "text/x-python",
   "name": "python",
   "nbconvert_exporter": "python",
   "pygments_lexer": "ipython3",
   "version": "3.12.3"
  }
 },
 "nbformat": 4,
 "nbformat_minor": 2
}
