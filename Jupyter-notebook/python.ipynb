{
 "cells": [
  {
   "cell_type": "code",
   "execution_count": 5,
   "metadata": {},
   "outputs": [
    {
     "name": "stdout",
     "output_type": "stream",
     "text": [
      "Bigger than 50? Yes\n",
      "Bigger than 75? No\n",
      "Bigger than 63? Yes\n",
      "Bigger than 69? No\n",
      "Bigger than 66? Yes\n",
      "Bigger than 68? Yes\n",
      "Your x is 69\n"
     ]
    },
    {
     "data": {
      "text/plain": [
       "69"
      ]
     },
     "execution_count": 5,
     "metadata": {},
     "output_type": "execute_result"
    }
   ],
   "source": [
    "# Twenty QA game.\n",
    "# Using iteration\n",
    "\n",
    "def solve(x, s, t):\n",
    "    low, high = s, t\n",
    "    while low < high:\n",
    "        mid = (low + high) // 2\n",
    "        print(f'Bigger than {mid}?', end= ' ')\n",
    "        if x > mid:\n",
    "            print('Yes')\n",
    "            low = mid + 1\n",
    "        else:\n",
    "            print('No')\n",
    "            high = mid\n",
    "    print(f'Your x is {low}')\n",
    "    return low\n",
    "        \n",
    "import random\n",
    "s, t = map(int, input().split())\n",
    "SEED = int(input())\n",
    "random.seed(SEED)\n",
    "x = random.randint(s, t)\n",
    "solve(x, s, t)\n",
    "\n",
    "# Task 1\n",
    "# Input s, t = 1, 100\n",
    "# SEED = 2022\n",
    "# output = 69\n",
    "\n",
    "# Task 2\n",
    "# Input s, t = 1, 1000000\n",
    "# SEED = 2022\n",
    "# output = 557451"
   ]
  },
  {
   "cell_type": "code",
   "execution_count": 6,
   "metadata": {},
   "outputs": [
    {
     "name": "stdout",
     "output_type": "stream",
     "text": [
      "Bigger than 50? Yes\n",
      "Bigger than 75? No\n",
      "Bigger than 63? Yes\n",
      "Bigger than 69? No\n",
      "Bigger than 66? Yes\n",
      "Bigger than 68? Yes\n",
      "Your X is 69.\n"
     ]
    },
    {
     "data": {
      "text/plain": [
       "69"
      ]
     },
     "execution_count": 6,
     "metadata": {},
     "output_type": "execute_result"
    }
   ],
   "source": [
    "# Twenty QA game.\n",
    "# Using recursion\n",
    "\n",
    "def solve(x, low, high):\n",
    "    if low >= high :\n",
    "        print(f'Your X is {low}.')\n",
    "        return low\n",
    "    else:\n",
    "        mid = (low + high) // 2\n",
    "        print(f'Bigger than {mid}?', end= ' ')\n",
    "        if x > mid:\n",
    "            print('Yes')\n",
    "            return solve(x, mid + 1, high)\n",
    "        else:\n",
    "            print('No')\n",
    "            return solve(x, low, mid)\n",
    "        \n",
    "import random\n",
    "s, t = map(int, input().split())\n",
    "SEED = int(input())\n",
    "random.seed(SEED)\n",
    "x = random.randint(s, t)\n",
    "solve(x, s, t)"
   ]
  },
  {
   "cell_type": "code",
   "execution_count": 12,
   "metadata": {},
   "outputs": [
    {
     "name": "stdout",
     "output_type": "stream",
     "text": [
      "5 96\n"
     ]
    }
   ],
   "source": [
    "# TODO: Binsearch [4] Bitonic sequence\n",
    "# Recursion\n",
    "\n",
    "def binsearch(low, high, n, s):\n",
    "    mid = (low + high) // 2\n",
    "    if mid == 0 or mid > (n - 1):\n",
    "        return -1\n",
    "    else:\n",
    "        if s[mid-1] < s[mid] > s[mid+1]:\n",
    "            return mid\n",
    "        elif s[mid-1] < s[mid] < s[mid+1]:\n",
    "            return binsearch(mid + 1, high, n, s)\n",
    "        else:\n",
    "            return binsearch(low, mid - 1, n, s)\n",
    "        \n",
    "\n",
    "def solve(n, s):\n",
    "    j = binsearch(0, n - 1, n, s)\n",
    "    print(j, s[j])\n",
    "\n",
    "N = int(input())\n",
    "S = list(map(int, input().split()))\n",
    "solve(N, S)\n",
    "\n",
    "# Input1:\n",
    "# N = 7\n",
    "# 18 27 42 82 73 67 25\n",
    "# Output: 3 82\n",
    "\n",
    "# Input2:\n",
    "# N = 9\n",
    "# 27 44 57 69 88 96 53 33 10\n",
    "# Output: 5 96\n",
    "\n",
    "# Input3:\n",
    "# N = 10\n",
    "# 17 95 87 56 49 42 37 31 21 20\n",
    "# Output: 1 95"
   ]
  },
  {
   "cell_type": "code",
   "execution_count": 11,
   "metadata": {},
   "outputs": [
    {
     "name": "stdout",
     "output_type": "stream",
     "text": [
      "5 96\n"
     ]
    }
   ],
   "source": [
    "# Solution 2 (Iteration)\n",
    "\n",
    "def binsearch(n, s):\n",
    "    low, high = 0, n - 1\n",
    "    mid = (low + high) // 2\n",
    "    while mid != 0 and mid != n - 1:\n",
    "        mid = (low + high) // 2\n",
    "        if s[mid-1] < s[mid] > s[mid+1]:\n",
    "            return mid\n",
    "        elif s[mid-1] < s[mid] < s[mid+1]:\n",
    "            low = mid + 1\n",
    "        else:\n",
    "            high = mid - 1\n",
    "    return -1\n",
    "\n",
    "def solve(n, s):\n",
    "    j = binsearch(n, s)\n",
    "    print(j, s[j])\n",
    "\n",
    "N = int(input())\n",
    "S = list(map(int, input().split()))\n",
    "solve(N, S)"
   ]
  }
 ],
 "metadata": {
  "kernelspec": {
   "display_name": "Python 3",
   "language": "python",
   "name": "python3"
  },
  "language_info": {
   "codemirror_mode": {
    "name": "ipython",
    "version": 3
   },
   "file_extension": ".py",
   "mimetype": "text/x-python",
   "name": "python",
   "nbconvert_exporter": "python",
   "pygments_lexer": "ipython3",
   "version": "3.12.3"
  }
 },
 "nbformat": 4,
 "nbformat_minor": 2
}
